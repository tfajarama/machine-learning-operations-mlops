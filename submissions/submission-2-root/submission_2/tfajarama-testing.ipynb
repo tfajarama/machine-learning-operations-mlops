{
 "cells": [
  {
   "cell_type": "code",
   "execution_count": 2,
   "id": "initial_id",
   "metadata": {
    "collapsed": true,
    "ExecuteTime": {
     "end_time": "2025-01-14T13:08:49.011101Z",
     "start_time": "2025-01-14T13:08:48.998104Z"
    }
   },
   "outputs": [],
   "source": [
    "import requests\n",
    "import tensorflow as tf\n",
    "import json\n",
    "import base64"
   ]
  },
  {
   "cell_type": "code",
   "outputs": [],
   "source": [
    "# Prepare input JSON payload\n",
    "def prepare_json(features):\n",
    "    \"\"\"\n",
    "    Converts raw input features into a serialized `tf.Example` format for prediction.\n",
    "\n",
    "    Args:\n",
    "        features (dict): Raw input features.\n",
    "\n",
    "    Returns:\n",
    "        str: JSON payload ready to be sent to the model endpoint.\n",
    "    \"\"\"\n",
    "    # Define fields expected as integers\n",
    "    integer_fields = [\"person_emp_exp\", \"credit_score\", \"loan_status\"]\n",
    "\n",
    "    # Ensure integer fields are cast to int\n",
    "    for field in integer_fields:\n",
    "        if field in features:\n",
    "            features[field] = int(features[field])\n",
    "    \n",
    "    # Prepare the serialized example\n",
    "    feature_spec = {\n",
    "        key: tf.train.Feature(\n",
    "            int64_list=tf.train.Int64List(value=[value])\n",
    "        ) if isinstance(value, int) else\n",
    "        tf.train.Feature(\n",
    "            float_list=tf.train.FloatList(value=[value])\n",
    "        ) if isinstance(value, float) else\n",
    "        tf.train.Feature(\n",
    "            bytes_list=tf.train.BytesList(value=[bytes(value, \"utf-8\")])\n",
    "        )\n",
    "        for key, value in features.items()\n",
    "    }\n",
    "    \n",
    "    example = tf.train.Example(\n",
    "        features=tf.train.Features(feature=feature_spec)\n",
    "    ).SerializeToString()\n",
    "    \n",
    "    return json.dumps(\n",
    "        {\n",
    "            \"signature_name\": \"serving_default\",\n",
    "            \"instances\": [{\"examples\": {\"b64\": base64.b64encode(example).decode()}}]\n",
    "        }\n",
    "    )"
   ],
   "metadata": {
    "collapsed": false,
    "ExecuteTime": {
     "end_time": "2025-01-14T13:18:15.070097Z",
     "start_time": "2025-01-14T13:18:15.055090Z"
    }
   },
   "id": "5072d8ce03998476",
   "execution_count": 12
  },
  {
   "cell_type": "code",
   "outputs": [],
   "source": [
    "# Sample Data\n",
    "data_samples = [\n",
    "    {\n",
    "        \"person_age\": 22.0, \"person_gender\": \"female\", \"person_education\": \"Master\",\n",
    "        \"person_income\": 71948.0, \"person_emp_exp\": 0, \"person_home_ownership\": \"RENT\",\n",
    "        \"loan_amnt\": 35000.0, \"loan_intent\": \"PERSONAL\", \"loan_int_rate\": 16.02,\n",
    "        \"loan_percent_income\": 0.49, \"cb_person_cred_hist_length\": 3.0,\n",
    "        \"credit_score\": 561, \"previous_loan_defaults_on_file\": \"No\"\n",
    "    },\n",
    "    {\n",
    "        \"person_age\": 21.0, \"person_gender\": \"female\", \"person_education\": \"High School\",\n",
    "        \"person_income\": 12282.0, \"person_emp_exp\": 0, \"person_home_ownership\": \"OWN\",\n",
    "        \"loan_amnt\": 1000.0, \"loan_intent\": \"EDUCATION\", \"loan_int_rate\": 11.14,\n",
    "        \"loan_percent_income\": 0.08, \"cb_person_cred_hist_length\": 2.0,\n",
    "        \"credit_score\": 504, \"previous_loan_defaults_on_file\": \"Yes\"\n",
    "    },\n",
    "]"
   ],
   "metadata": {
    "collapsed": false,
    "ExecuteTime": {
     "end_time": "2025-01-14T13:18:15.899704Z",
     "start_time": "2025-01-14T13:18:15.875711Z"
    }
   },
   "id": "640853e8f86cd96e",
   "execution_count": 13
  },
  {
   "cell_type": "code",
   "outputs": [
    {
     "name": "stdout",
     "output_type": "stream",
     "text": [
      "Input: {\"person_age\": 22.0, \"person_gender\": \"female\", \"person_education\": \"Master\", \"person_income\": 71948.0, \"person_emp_exp\": 0, \"person_home_ownership\": \"RENT\", \"loan_amnt\": 35000.0, \"loan_intent\": \"PERSONAL\", \"loan_int_rate\": 16.02, \"loan_percent_income\": 0.49, \"cb_person_cred_hist_length\": 3.0, \"credit_score\": 561, \"previous_loan_defaults_on_file\": \"No\"}, Outcome: Approved\n",
      "Input: {\"person_age\": 21.0, \"person_gender\": \"female\", \"person_education\": \"High School\", \"person_income\": 12282.0, \"person_emp_exp\": 0, \"person_home_ownership\": \"OWN\", \"loan_amnt\": 1000.0, \"loan_intent\": \"EDUCATION\", \"loan_int_rate\": 11.14, \"loan_percent_income\": 0.08, \"cb_person_cred_hist_length\": 2.0, \"credit_score\": 504, \"previous_loan_defaults_on_file\": \"Yes\"}, Outcome: Rejected\n"
     ]
    }
   ],
   "source": [
    "# Endpoint URL\n",
    "endpoint = \"https://mlopsfinalproject-production.up.railway.app/v1/models/loan_approval_model:predict\"\n",
    "\n",
    "# Make requests and print predictions\n",
    "results = {}\n",
    "\n",
    "for sample in data_samples:\n",
    "    response = requests.post(endpoint, data=prepare_json(sample))\n",
    "    sample_key = json.dumps(sample)  # Convert sample dictionary to a string\n",
    "    if response.status_code == 200:\n",
    "        prediction = response.json()[\"predictions\"][0][0]\n",
    "        results[sample_key] = \"Approved\" if prediction >= 0.5 else \"Rejected\"\n",
    "    else:\n",
    "        results[sample_key] = f\"Error: {response.status_code}, {response.text}\"\n",
    "\n",
    "# Display results\n",
    "for sample, outcome in results.items():\n",
    "    print(f\"Input: {sample}, Outcome: {outcome}\")"
   ],
   "metadata": {
    "collapsed": false,
    "ExecuteTime": {
     "end_time": "2025-01-14T17:55:55.967319Z",
     "start_time": "2025-01-14T17:55:54.934808Z"
    }
   },
   "id": "a765e70b42ea133f",
   "execution_count": 17
  }
 ],
 "metadata": {
  "kernelspec": {
   "display_name": "Python 3",
   "language": "python",
   "name": "python3"
  },
  "language_info": {
   "codemirror_mode": {
    "name": "ipython",
    "version": 2
   },
   "file_extension": ".py",
   "mimetype": "text/x-python",
   "name": "python",
   "nbconvert_exporter": "python",
   "pygments_lexer": "ipython2",
   "version": "2.7.6"
  }
 },
 "nbformat": 4,
 "nbformat_minor": 5
}
